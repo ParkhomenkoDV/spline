{
 "cells": [
  {
   "cell_type": "code",
   "execution_count": 4,
   "metadata": {},
   "outputs": [
    {
     "name": "stdout",
     "output_type": "stream",
     "text": [
      "Requirement already satisfied: numpy in d:\\programming\\projects\\spline\\venv\\lib\\site-packages (2.1.2)\n"
     ]
    }
   ],
   "source": [
    "!pip install --upgrade numpy"
   ]
  },
  {
   "cell_type": "code",
   "execution_count": 5,
   "metadata": {},
   "outputs": [
    {
     "name": "stdout",
     "output_type": "stream",
     "text": [
      "Collecting git+https://github.com/ParkhomenkoDV/spline\n",
      "  Cloning https://github.com/ParkhomenkoDV/spline to c:\\users\\parkh\\appdata\\local\\temp\\pip-req-build-7blkjubn\n",
      "  Resolved https://github.com/ParkhomenkoDV/spline to commit 1cdf6734741f9c376985e4f163b28c8035df45c4\n",
      "  Preparing metadata (setup.py): started\n",
      "  Preparing metadata (setup.py): finished with status 'done'\n",
      "Requirement already satisfied: colorama in d:\\programming\\projects\\spline\\venv\\lib\\site-packages (from spline==2024.10.26.16.50) (0.4.6)\n",
      "Requirement already satisfied: tqdm in d:\\programming\\projects\\spline\\venv\\lib\\site-packages (from spline==2024.10.26.16.50) (4.66.5)\n",
      "Requirement already satisfied: pandas in d:\\programming\\projects\\spline\\venv\\lib\\site-packages (from spline==2024.10.26.16.50) (2.2.3)\n",
      "Requirement already satisfied: openpyxl in d:\\programming\\projects\\spline\\venv\\lib\\site-packages (from spline==2024.10.26.16.50) (3.1.5)\n",
      "Requirement already satisfied: numpy in d:\\programming\\projects\\spline\\venv\\lib\\site-packages (from spline==2024.10.26.16.50) (2.1.2)\n",
      "Requirement already satisfied: scipy in d:\\programming\\projects\\spline\\venv\\lib\\site-packages (from spline==2024.10.26.16.50) (1.14.1)\n",
      "Requirement already satisfied: matplotlib in d:\\programming\\projects\\spline\\venv\\lib\\site-packages (from spline==2024.10.26.16.50) (3.9.2)\n",
      "Requirement already satisfied: pytest in d:\\programming\\projects\\spline\\venv\\lib\\site-packages (from spline==2024.10.26.16.50) (8.3.3)\n",
      "Requirement already satisfied: contourpy>=1.0.1 in d:\\programming\\projects\\spline\\venv\\lib\\site-packages (from matplotlib->spline==2024.10.26.16.50) (1.3.0)\n",
      "Requirement already satisfied: cycler>=0.10 in d:\\programming\\projects\\spline\\venv\\lib\\site-packages (from matplotlib->spline==2024.10.26.16.50) (0.12.1)\n",
      "Requirement already satisfied: fonttools>=4.22.0 in d:\\programming\\projects\\spline\\venv\\lib\\site-packages (from matplotlib->spline==2024.10.26.16.50) (4.54.1)\n",
      "Requirement already satisfied: kiwisolver>=1.3.1 in d:\\programming\\projects\\spline\\venv\\lib\\site-packages (from matplotlib->spline==2024.10.26.16.50) (1.4.7)\n",
      "Requirement already satisfied: packaging>=20.0 in d:\\programming\\projects\\spline\\venv\\lib\\site-packages (from matplotlib->spline==2024.10.26.16.50) (24.1)\n",
      "Requirement already satisfied: pillow>=8 in d:\\programming\\projects\\spline\\venv\\lib\\site-packages (from matplotlib->spline==2024.10.26.16.50) (11.0.0)\n",
      "Requirement already satisfied: pyparsing>=2.3.1 in d:\\programming\\projects\\spline\\venv\\lib\\site-packages (from matplotlib->spline==2024.10.26.16.50) (3.2.0)\n",
      "Requirement already satisfied: python-dateutil>=2.7 in d:\\programming\\projects\\spline\\venv\\lib\\site-packages (from matplotlib->spline==2024.10.26.16.50) (2.9.0.post0)\n",
      "Requirement already satisfied: et-xmlfile in d:\\programming\\projects\\spline\\venv\\lib\\site-packages (from openpyxl->spline==2024.10.26.16.50) (1.1.0)\n",
      "Requirement already satisfied: pytz>=2020.1 in d:\\programming\\projects\\spline\\venv\\lib\\site-packages (from pandas->spline==2024.10.26.16.50) (2024.2)\n",
      "Requirement already satisfied: tzdata>=2022.7 in d:\\programming\\projects\\spline\\venv\\lib\\site-packages (from pandas->spline==2024.10.26.16.50) (2024.2)\n",
      "Requirement already satisfied: iniconfig in d:\\programming\\projects\\spline\\venv\\lib\\site-packages (from pytest->spline==2024.10.26.16.50) (2.0.0)\n",
      "Requirement already satisfied: pluggy<2,>=1.5 in d:\\programming\\projects\\spline\\venv\\lib\\site-packages (from pytest->spline==2024.10.26.16.50) (1.5.0)\n",
      "Requirement already satisfied: six>=1.5 in d:\\programming\\projects\\spline\\venv\\lib\\site-packages (from python-dateutil>=2.7->matplotlib->spline==2024.10.26.16.50) (1.16.0)\n",
      "Building wheels for collected packages: spline\n",
      "  Building wheel for spline (setup.py): started\n",
      "  Building wheel for spline (setup.py): finished with status 'done'\n",
      "  Created wheel for spline: filename=spline-2024.10.26.16.50-py3-none-any.whl size=129101 sha256=7fa65f9b19f67192e72855ae50f6ef9316a69e962b34fbc5ff029091150acfb5\n",
      "  Stored in directory: C:\\Users\\parkh\\AppData\\Local\\Temp\\pip-ephem-wheel-cache-q9gzfnyx\\wheels\\ce\\65\\25\\81b16e25a1280154a88d8883d804181cbf40a0e1a3dd51cf21\n",
      "Successfully built spline\n",
      "Installing collected packages: spline\n",
      "  Attempting uninstall: spline\n",
      "    Found existing installation: spline 2024.10.26.16.48\n",
      "    Uninstalling spline-2024.10.26.16.48:\n",
      "      Successfully uninstalled spline-2024.10.26.16.48\n",
      "Successfully installed spline-2024.10.26.16.48\n"
     ]
    },
    {
     "name": "stderr",
     "output_type": "stream",
     "text": [
      "  Running command git clone --filter=blob:none --quiet https://github.com/ParkhomenkoDV/spline 'C:\\Users\\parkh\\AppData\\Local\\Temp\\pip-req-build-7blkjubn'\n"
     ]
    }
   ],
   "source": [
    "!pip install --upgrade git+https://github.com/ParkhomenkoDV/spline"
   ]
  },
  {
   "cell_type": "markdown",
   "metadata": {},
   "source": [
    "# libraries"
   ]
  },
  {
   "cell_type": "code",
   "execution_count": 8,
   "metadata": {},
   "outputs": [
    {
     "ename": "ImportError",
     "evalue": "cannot import name 'STANDARDS' from 'spline' (d:\\programming\\projects\\spline\\venv\\Lib\\site-packages\\spline\\__init__.py)",
     "output_type": "error",
     "traceback": [
      "\u001b[1;31m---------------------------------------------------------------------------\u001b[0m",
      "\u001b[1;31mImportError\u001b[0m                               Traceback (most recent call last)",
      "Cell \u001b[1;32mIn[8], line 1\u001b[0m\n\u001b[1;32m----> 1\u001b[0m \u001b[38;5;28;01mfrom\u001b[39;00m \u001b[38;5;21;01mspline\u001b[39;00m \u001b[38;5;28;01mimport\u001b[39;00m STANDARDS, Spline\n",
      "\u001b[1;31mImportError\u001b[0m: cannot import name 'STANDARDS' from 'spline' (d:\\programming\\projects\\spline\\venv\\Lib\\site-packages\\spline\\__init__.py)"
     ]
    }
   ],
   "source": [
    "from spline import STANDARDS, Spline"
   ]
  },
  {
   "cell_type": "markdown",
   "metadata": {},
   "source": [
    "# init spline"
   ]
  },
  {
   "cell_type": "code",
   "execution_count": null,
   "metadata": {},
   "outputs": [],
   "source": [
    "from spline"
   ]
  },
  {
   "cell_type": "code",
   "execution_count": 7,
   "metadata": {},
   "outputs": [
    {
     "ename": "NameError",
     "evalue": "name 'spline' is not defined",
     "output_type": "error",
     "traceback": [
      "\u001b[1;31m---------------------------------------------------------------------------\u001b[0m",
      "\u001b[1;31mNameError\u001b[0m                                 Traceback (most recent call last)",
      "Cell \u001b[1;32mIn[7], line 1\u001b[0m\n\u001b[1;32m----> 1\u001b[0m \u001b[43mspline\u001b[49m\u001b[38;5;241m.\u001b[39mgost_1139\n",
      "\u001b[1;31mNameError\u001b[0m: name 'spline' is not defined"
     ]
    }
   ],
   "source": [
    "spline.gost_1139"
   ]
  },
  {
   "cell_type": "markdown",
   "metadata": {},
   "source": [
    "spline_1139 = Spline(1139, )"
   ]
  }
 ],
 "metadata": {
  "kernelspec": {
   "display_name": "venv",
   "language": "python",
   "name": "python3"
  },
  "language_info": {
   "codemirror_mode": {
    "name": "ipython",
    "version": 3
   },
   "file_extension": ".py",
   "mimetype": "text/x-python",
   "name": "python",
   "nbconvert_exporter": "python",
   "pygments_lexer": "ipython3",
   "version": "3.11.9"
  }
 },
 "nbformat": 4,
 "nbformat_minor": 2
}
